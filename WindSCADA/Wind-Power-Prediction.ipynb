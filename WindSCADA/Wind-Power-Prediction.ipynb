{
 "cells": [
  {
   "cell_type": "code",
   "execution_count": 2,
   "metadata": {},
   "outputs": [],
   "source": [
    "import os\n",
    "import numpy as np\n",
    "import pandas as pd\n",
    "import matplotlib.pyplot as plt\n",
    "import seaborn as sns\n",
    "%matplotlib inline\n",
    "import warnings\n",
    "warnings.filterwarnings('ignore')\n",
    "import pickle"
   ]
  },
  {
   "cell_type": "code",
   "execution_count": 3,
   "metadata": {},
   "outputs": [],
   "source": [
    "from scipy import stats\n",
    "from scipy.stats import norm\n",
    "from sklearn.preprocessing import StandardScaler"
   ]
  },
  {
   "cell_type": "code",
   "execution_count": 4,
   "metadata": {},
   "outputs": [],
   "source": [
    "os.chdir(\"C:\\\\Users\\\\hr\\\\Downloads\\\\ML_Practice\\\\Untitled_Folder\\\\WindSCADA\")"
   ]
  },
  {
   "cell_type": "code",
   "execution_count": 5,
   "metadata": {},
   "outputs": [],
   "source": [
    "data = pd.read_csv(\"C:\\\\Users\\\\hr\\\\Downloads\\\\ML_Practice\\\\Untitled_Folder\\\\WindSCADA\\\\scada_data.csv\")"
   ]
  },
  {
   "cell_type": "code",
   "execution_count": 6,
   "metadata": {},
   "outputs": [],
   "source": [
    "data_train = data.drop('WEC: Production kWh',axis=1)"
   ]
  },
  {
   "cell_type": "code",
   "execution_count": 7,
   "metadata": {},
   "outputs": [],
   "source": [
    "data_test=data['WEC: Production kWh']"
   ]
  },
  {
   "cell_type": "code",
   "execution_count": 8,
   "metadata": {},
   "outputs": [
    {
     "data": {
      "text/plain": [
       "Index(['DateTime', 'Time', 'Error', 'WEC: ava. windspeed',\n",
       "       'WEC: max. windspeed', 'WEC: min. windspeed', 'WEC: ava. Rotation',\n",
       "       'WEC: max. Rotation', 'WEC: min. Rotation', 'WEC: ava. Power',\n",
       "       'WEC: max. Power', 'WEC: min. Power',\n",
       "       'WEC: ava. Nacel position including cable twisting',\n",
       "       'WEC: Operating Hours', 'WEC: Production minutes',\n",
       "       'WEC: ava. reactive Power', 'WEC: max. reactive Power',\n",
       "       'WEC: min. reactive Power', 'WEC: ava. available P from wind',\n",
       "       'WEC: ava. available P technical reasons',\n",
       "       'WEC: ava. Available P force majeure reasons',\n",
       "       'WEC: ava. Available P force external reasons',\n",
       "       'WEC: ava. blade angle A', 'Sys 1 inverter 1 cabinet temp.',\n",
       "       'Sys 1 inverter 2 cabinet temp.', 'Sys 1 inverter 3 cabinet temp.',\n",
       "       'Sys 1 inverter 4 cabinet temp.', 'Sys 1 inverter 5 cabinet temp.',\n",
       "       'Sys 1 inverter 6 cabinet temp.', 'Sys 1 inverter 7 cabinet temp.',\n",
       "       'Sys 2 inverter 1 cabinet temp.', 'Sys 2 inverter 2 cabinet temp.',\n",
       "       'Sys 2 inverter 3 cabinet temp.', 'Sys 2 inverter 4 cabinet temp.',\n",
       "       'Sys 2 inverter 5 cabinet temp.', 'Sys 2 inverter 6 cabinet temp.',\n",
       "       'Sys 2 inverter 7 cabinet temp.', 'Spinner temp.',\n",
       "       'Front bearing temp.', 'Rear bearing temp.',\n",
       "       'Pitch cabinet blade A temp.', 'Pitch cabinet blade B temp.',\n",
       "       'Pitch cabinet blade C temp.', 'Blade A temp.', 'Blade B temp.',\n",
       "       'Blade C temp.', 'Rotor temp. 1', 'Rotor temp. 2', 'Stator temp. 1',\n",
       "       'Stator temp. 2', 'Nacelle ambient temp. 1', 'Nacelle ambient temp. 2',\n",
       "       'Nacelle temp.', 'Nacelle cabinet temp.', 'Main carrier temp.',\n",
       "       'Rectifier cabinet temp.', 'Yaw inverter cabinet temp.',\n",
       "       'Fan inverter cabinet temp.', 'Ambient temp.', 'Tower temp.',\n",
       "       'Control cabinet temp.', 'Transformer temp.', 'RTU: ava. Setpoint 1',\n",
       "       'Inverter averages', 'Inverter std dev'],\n",
       "      dtype='object')"
      ]
     },
     "execution_count": 8,
     "metadata": {},
     "output_type": "execute_result"
    }
   ],
   "source": [
    "data_train.columns"
   ]
  },
  {
   "cell_type": "code",
   "execution_count": 9,
   "metadata": {},
   "outputs": [
    {
     "data": {
      "text/plain": [
       "count    49027.000000\n",
       "mean         6.874626\n",
       "std          3.694776\n",
       "min          0.000000\n",
       "25%          4.200000\n",
       "50%          6.500000\n",
       "75%          8.900000\n",
       "max         32.099998\n",
       "Name: WEC: ava. windspeed, dtype: float64"
      ]
     },
     "execution_count": 9,
     "metadata": {},
     "output_type": "execute_result"
    }
   ],
   "source": [
    "data_train['WEC: ava. windspeed'].describe()"
   ]
  },
  {
   "cell_type": "code",
   "execution_count": 10,
   "metadata": {},
   "outputs": [
    {
     "data": {
      "text/plain": [
       "<matplotlib.axes._subplots.AxesSubplot at 0x1d67c98e948>"
      ]
     },
     "execution_count": 10,
     "metadata": {},
     "output_type": "execute_result"
    },
    {
     "data": {
      "image/png": "[encoded data removed]",
      "text/plain": [
       "<Figure size 432x288 with 1 Axes>"
      ]
     },
     "metadata": {
      "needs_background": "light"
     },
     "output_type": "display_data"
    }
   ],
   "source": [
    "sns.distplot(data_train['WEC: ava. windspeed'])"
   ]
  },
  {
   "cell_type": "code",
   "execution_count": 9,
   "metadata": {},
   "outputs": [],
   "source": [
    "correlation = data.corr()"
   ]
  },
  {
   "cell_type": "code",
   "execution_count": 11,
   "metadata": {},
   "outputs": [
    {
     "data": {
      "text/plain": [
       "WEC: ava. available P from wind                 1.000000\n",
       "WEC: ava. Available P force external reasons    0.999321\n",
       "WEC: ava. available P technical reasons         0.988453\n",
       "WEC: ava. Available P force majeure reasons     0.964586\n",
       "WEC: ava. windspeed                             0.793364\n",
       "WEC: ava. Power                                 0.782353\n",
       "WEC: max. windspeed                             0.761076\n",
       "WEC: max. Power                                 0.747276\n",
       "WEC: min. Power                                 0.744575\n",
       "WEC: ava. reactive Power                        0.680802\n",
       "Rotor temp. 1                                   0.645360\n",
       "Rotor temp. 2                                   0.642798\n",
       "WEC: min. reactive Power                        0.639643\n",
       "Stator temp. 1                                  0.630705\n",
       "Stator temp. 2                                  0.629206\n",
       "Name: WEC: ava. available P from wind, dtype: float64"
      ]
     },
     "execution_count": 11,
     "metadata": {},
     "output_type": "execute_result"
    }
   ],
   "source": [
    "correlation['WEC: ava. available P from wind'].sort_values(ascending=False)[:15]"
   ]
  },
  {
   "cell_type": "code",
   "execution_count": 12,
   "metadata": {},
   "outputs": [
    {
     "data": {
      "text/html": [
       "<div>\n",
       "<style scoped>\n",
       "    .dataframe tbody tr th:only-of-type {\n",
       "        vertical-align: middle;\n",
       "    }\n",
       "\n",
       "    .dataframe tbody tr th {\n",
       "        vertical-align: top;\n",
       "    }\n",
       "\n",
       "    .dataframe thead th {\n",
       "        text-align: right;\n",
       "    }\n",
       "</style>\n",
       "<table border=\"1\" class=\"dataframe\">\n",
       "  <thead>\n",
       "    <tr style=\"text-align: right;\">\n",
       "      <th></th>\n",
       "      <th>Total</th>\n",
       "      <th>Percent</th>\n",
       "    </tr>\n",
       "  </thead>\n",
       "  <tbody>\n",
       "    <tr>\n",
       "      <td>RTU: ava. Setpoint 1</td>\n",
       "      <td>0</td>\n",
       "      <td>0.0</td>\n",
       "    </tr>\n",
       "    <tr>\n",
       "      <td>Transformer temp.</td>\n",
       "      <td>0</td>\n",
       "      <td>0.0</td>\n",
       "    </tr>\n",
       "    <tr>\n",
       "      <td>Control cabinet temp.</td>\n",
       "      <td>0</td>\n",
       "      <td>0.0</td>\n",
       "    </tr>\n",
       "    <tr>\n",
       "      <td>Tower temp.</td>\n",
       "      <td>0</td>\n",
       "      <td>0.0</td>\n",
       "    </tr>\n",
       "    <tr>\n",
       "      <td>Ambient temp.</td>\n",
       "      <td>0</td>\n",
       "      <td>0.0</td>\n",
       "    </tr>\n",
       "    <tr>\n",
       "      <td>Fan inverter cabinet temp.</td>\n",
       "      <td>0</td>\n",
       "      <td>0.0</td>\n",
       "    </tr>\n",
       "    <tr>\n",
       "      <td>Yaw inverter cabinet temp.</td>\n",
       "      <td>0</td>\n",
       "      <td>0.0</td>\n",
       "    </tr>\n",
       "    <tr>\n",
       "      <td>Rectifier cabinet temp.</td>\n",
       "      <td>0</td>\n",
       "      <td>0.0</td>\n",
       "    </tr>\n",
       "    <tr>\n",
       "      <td>Main carrier temp.</td>\n",
       "      <td>0</td>\n",
       "      <td>0.0</td>\n",
       "    </tr>\n",
       "    <tr>\n",
       "      <td>Nacelle cabinet temp.</td>\n",
       "      <td>0</td>\n",
       "      <td>0.0</td>\n",
       "    </tr>\n",
       "    <tr>\n",
       "      <td>Nacelle temp.</td>\n",
       "      <td>0</td>\n",
       "      <td>0.0</td>\n",
       "    </tr>\n",
       "    <tr>\n",
       "      <td>Nacelle ambient temp. 2</td>\n",
       "      <td>0</td>\n",
       "      <td>0.0</td>\n",
       "    </tr>\n",
       "    <tr>\n",
       "      <td>Nacelle ambient temp. 1</td>\n",
       "      <td>0</td>\n",
       "      <td>0.0</td>\n",
       "    </tr>\n",
       "    <tr>\n",
       "      <td>Stator temp. 2</td>\n",
       "      <td>0</td>\n",
       "      <td>0.0</td>\n",
       "    </tr>\n",
       "    <tr>\n",
       "      <td>Stator temp. 1</td>\n",
       "      <td>0</td>\n",
       "      <td>0.0</td>\n",
       "    </tr>\n",
       "    <tr>\n",
       "      <td>Rotor temp. 2</td>\n",
       "      <td>0</td>\n",
       "      <td>0.0</td>\n",
       "    </tr>\n",
       "    <tr>\n",
       "      <td>Rotor temp. 1</td>\n",
       "      <td>0</td>\n",
       "      <td>0.0</td>\n",
       "    </tr>\n",
       "    <tr>\n",
       "      <td>Blade C temp.</td>\n",
       "      <td>0</td>\n",
       "      <td>0.0</td>\n",
       "    </tr>\n",
       "    <tr>\n",
       "      <td>Blade B temp.</td>\n",
       "      <td>0</td>\n",
       "      <td>0.0</td>\n",
       "    </tr>\n",
       "    <tr>\n",
       "      <td>Blade A temp.</td>\n",
       "      <td>0</td>\n",
       "      <td>0.0</td>\n",
       "    </tr>\n",
       "    <tr>\n",
       "      <td>Pitch cabinet blade C temp.</td>\n",
       "      <td>0</td>\n",
       "      <td>0.0</td>\n",
       "    </tr>\n",
       "    <tr>\n",
       "      <td>Pitch cabinet blade B temp.</td>\n",
       "      <td>0</td>\n",
       "      <td>0.0</td>\n",
       "    </tr>\n",
       "    <tr>\n",
       "      <td>Pitch cabinet blade A temp.</td>\n",
       "      <td>0</td>\n",
       "      <td>0.0</td>\n",
       "    </tr>\n",
       "    <tr>\n",
       "      <td>Rear bearing temp.</td>\n",
       "      <td>0</td>\n",
       "      <td>0.0</td>\n",
       "    </tr>\n",
       "    <tr>\n",
       "      <td>Front bearing temp.</td>\n",
       "      <td>0</td>\n",
       "      <td>0.0</td>\n",
       "    </tr>\n",
       "    <tr>\n",
       "      <td>Spinner temp.</td>\n",
       "      <td>0</td>\n",
       "      <td>0.0</td>\n",
       "    </tr>\n",
       "    <tr>\n",
       "      <td>Sys 2 inverter 7 cabinet temp.</td>\n",
       "      <td>0</td>\n",
       "      <td>0.0</td>\n",
       "    </tr>\n",
       "    <tr>\n",
       "      <td>Sys 2 inverter 6 cabinet temp.</td>\n",
       "      <td>0</td>\n",
       "      <td>0.0</td>\n",
       "    </tr>\n",
       "    <tr>\n",
       "      <td>Sys 2 inverter 5 cabinet temp.</td>\n",
       "      <td>0</td>\n",
       "      <td>0.0</td>\n",
       "    </tr>\n",
       "    <tr>\n",
       "      <td>DateTime</td>\n",
       "      <td>0</td>\n",
       "      <td>0.0</td>\n",
       "    </tr>\n",
       "  </tbody>\n",
       "</table>\n",
       "</div>"
      ],
      "text/plain": [
       "                                Total  Percent\n",
       "RTU: ava. Setpoint 1                0      0.0\n",
       "Transformer temp.                   0      0.0\n",
       "Control cabinet temp.               0      0.0\n",
       "Tower temp.                         0      0.0\n",
       "Ambient temp.                       0      0.0\n",
       "Fan inverter cabinet temp.          0      0.0\n",
       "Yaw inverter cabinet temp.          0      0.0\n",
       "Rectifier cabinet temp.             0      0.0\n",
       "Main carrier temp.                  0      0.0\n",
       "Nacelle cabinet temp.               0      0.0\n",
       "Nacelle temp.                       0      0.0\n",
       "Nacelle ambient temp. 2             0      0.0\n",
       "Nacelle ambient temp. 1             0      0.0\n",
       "Stator temp. 2                      0      0.0\n",
       "Stator temp. 1                      0      0.0\n",
       "Rotor temp. 2                       0      0.0\n",
       "Rotor temp. 1                       0      0.0\n",
       "Blade C temp.                       0      0.0\n",
       "Blade B temp.                       0      0.0\n",
       "Blade A temp.                       0      0.0\n",
       "Pitch cabinet blade C temp.         0      0.0\n",
       "Pitch cabinet blade B temp.         0      0.0\n",
       "Pitch cabinet blade A temp.         0      0.0\n",
       "Rear bearing temp.                  0      0.0\n",
       "Front bearing temp.                 0      0.0\n",
       "Spinner temp.                       0      0.0\n",
       "Sys 2 inverter 7 cabinet temp.      0      0.0\n",
       "Sys 2 inverter 6 cabinet temp.      0      0.0\n",
       "Sys 2 inverter 5 cabinet temp.      0      0.0\n",
       "DateTime                            0      0.0"
      ]
     },
     "execution_count": 12,
     "metadata": {},
     "output_type": "execute_result"
    }
   ],
   "source": [
    "total = data.isnull().sum().sort_values(ascending = False)\n",
    "percent = (data.isnull().sum()/data.isnull().count()).sort_values(ascending = False)\n",
    "missing_data = pd.concat([total,percent], axis = 1, keys = ['Total', 'Percent'])\n",
    "missing_data.tail(30)"
   ]
  },
  {
   "cell_type": "code",
   "execution_count": 13,
   "metadata": {},
   "outputs": [
    {
     "data": {
      "text/plain": [
       "WEC: ava. available P from wind                 1.000000\n",
       "WEC: ava. Available P force external reasons    0.999321\n",
       "WEC: ava. available P technical reasons         0.988453\n",
       "WEC: ava. Available P force majeure reasons     0.964586\n",
       "WEC: ava. windspeed                             0.793364\n",
       "WEC: ava. Power                                 0.782353\n",
       "WEC: max. windspeed                             0.761076\n",
       "WEC: max. Power                                 0.747276\n",
       "WEC: min. Power                                 0.744575\n",
       "WEC: ava. reactive Power                        0.680802\n",
       "Rotor temp. 1                                   0.645360\n",
       "Rotor temp. 2                                   0.642798\n",
       "WEC: min. reactive Power                        0.639643\n",
       "Stator temp. 1                                  0.630705\n",
       "Stator temp. 2                                  0.629206\n",
       "WEC: ava. Rotation                              0.592610\n",
       "WEC: max. reactive Power                        0.579795\n",
       "WEC: max. Rotation                              0.578982\n",
       "Transformer temp.                               0.576071\n",
       "Tower temp.                                     0.365232\n",
       "Name: WEC: ava. available P from wind, dtype: float64"
      ]
     },
     "execution_count": 13,
     "metadata": {},
     "output_type": "execute_result"
    }
   ],
   "source": [
    "correlation['WEC: ava. available P from wind'].sort_values(ascending=False)[:20]"
   ]
  },
  {
   "cell_type": "code",
   "execution_count": 14,
   "metadata": {},
   "outputs": [],
   "source": [
    "def outliers(x):\n",
    "    return(np.abs(x-x.median())>1.5*(x.quantile(0.75)-x.quantile(0.25)))\n",
    "#Replace the upper outlier with 95th Percentile and replace the lower outliers with 5th percentile.\n",
    "def replace(x):\n",
    "    out = x[outliers(x)]\n",
    "    return(x.replace(to_replace = [out.min(),out.max()],value=[np.percentile(x,5),np.percentile(x,95)]))"
   ]
  },
  {
   "cell_type": "code",
   "execution_count": 15,
   "metadata": {},
   "outputs": [
    {
     "data": {
      "text/plain": [
       "WEC: ava. windspeed                                   2686\n",
       "WEC: max. windspeed                                   3994\n",
       "WEC: min. windspeed                                   1795\n",
       "WEC: ava. Rotation                                    4904\n",
       "WEC: max. Rotation                                       0\n",
       "WEC: min. Rotation                                    5327\n",
       "WEC: ava. Power                                       5245\n",
       "WEC: max. Power                                          0\n",
       "WEC: min. Power                                       6406\n",
       "WEC: ava. Nacel position including cable twisting     4362\n",
       "WEC: Operating Hours                                     0\n",
       "WEC: Production kWh                                      0\n",
       "WEC: Production minutes                                  0\n",
       "WEC: ava. reactive Power                              8210\n",
       "WEC: max. reactive Power                              7509\n",
       "WEC: min. reactive Power                              7153\n",
       "WEC: ava. available P from wind                       4855\n",
       "WEC: ava. available P technical reasons               4696\n",
       "WEC: ava. Available P force majeure reasons           5809\n",
       "WEC: ava. Available P force external reasons          4717\n",
       "WEC: ava. blade angle A                              12292\n",
       "Sys 1 inverter 1 cabinet temp.                        1276\n",
       "Sys 1 inverter 2 cabinet temp.                        1003\n",
       "Sys 1 inverter 3 cabinet temp.                        1930\n",
       "Sys 1 inverter 4 cabinet temp.                        1556\n",
       "Sys 1 inverter 5 cabinet temp.                         648\n",
       "Sys 1 inverter 6 cabinet temp.                         530\n",
       "Sys 1 inverter 7 cabinet temp.                         496\n",
       "Sys 2 inverter 1 cabinet temp.                        1129\n",
       "Sys 2 inverter 2 cabinet temp.                         605\n",
       "dtype: int64"
      ]
     },
     "execution_count": 15,
     "metadata": {},
     "output_type": "execute_result"
    }
   ],
   "source": [
    "outliers_total = outliers(data.iloc[:,3:65])\n",
    "outliers_total.sum()[:30]"
   ]
  },
  {
   "cell_type": "code",
   "execution_count": 19,
   "metadata": {},
   "outputs": [],
   "source": [
    "import scipy.stats\n",
    "import numpy as np"
   ]
  },
  {
   "cell_type": "code",
   "execution_count": 18,
   "metadata": {},
   "outputs": [
    {
     "ename": "NameError",
     "evalue": "name 'scipy' is not defined",
     "output_type": "error",
     "traceback": [
      "\u001b[1;31m---------------------------------------------------------------------------\u001b[0m",
      "\u001b[1;31mNameError\u001b[0m                                 Traceback (most recent call last)",
      "\u001b[1;32m<ipython-input-18-58c62f6bbc46>\u001b[0m in \u001b[0;36m<module>\u001b[1;34m\u001b[0m\n\u001b[1;32m----> 1\u001b[1;33m \u001b[0mdata\u001b[0m\u001b[1;33m[\u001b[0m\u001b[1;34m'WEC: ava. available P from wind'\u001b[0m\u001b[1;33m]\u001b[0m\u001b[1;33m=\u001b[0m \u001b[0mscipy\u001b[0m\u001b[1;33m.\u001b[0m\u001b[0mstats\u001b[0m\u001b[1;33m.\u001b[0m\u001b[0mmstats\u001b[0m\u001b[1;33m.\u001b[0m\u001b[0mwinsorize\u001b[0m\u001b[1;33m(\u001b[0m\u001b[0mdata\u001b[0m\u001b[1;33m[\u001b[0m\u001b[1;34m'WEC: ava. available P from wind'\u001b[0m\u001b[1;33m]\u001b[0m\u001b[1;33m,\u001b[0m\u001b[0mlimits\u001b[0m\u001b[1;33m=\u001b[0m\u001b[1;36m0.05\u001b[0m\u001b[1;33m)\u001b[0m\u001b[1;33m\u001b[0m\u001b[1;33m\u001b[0m\u001b[0m\n\u001b[0m",
      "\u001b[1;31mNameError\u001b[0m: name 'scipy' is not defined"
     ]
    }
   ],
   "source": [
    "data['WEC: ava. available P from wind']= scipy.stats.mstats.winsorize(data['WEC: ava. available P from wind'],limits=0.05)"
   ]
  },
  {
   "cell_type": "code",
   "execution_count": 19,
   "metadata": {},
   "outputs": [
    {
     "data": {
      "text/plain": [
       "<seaborn.axisgrid.FacetGrid at 0x2a2b69c3e48>"
      ]
     },
     "execution_count": 19,
     "metadata": {},
     "output_type": "execute_result"
    },
    {
     "data": {
      "image/png": "[encoded data removed]",
      "text/plain": [
       "<Figure size 360x360 with 1 Axes>"
      ]
     },
     "metadata": {
      "needs_background": "light"
     },
     "output_type": "display_data"
    }
   ],
   "source": [
    "sns.catplot(y='WEC: ava. available P from wind',data=data,kind=\"box\")"
   ]
  },
  {
   "cell_type": "code",
   "execution_count": 20,
   "metadata": {},
   "outputs": [],
   "source": [
    "train = data[['WEC: ava. windspeed','Rotor temp. 1']]"
   ]
  },
  {
   "cell_type": "code",
   "execution_count": 21,
   "metadata": {},
   "outputs": [],
   "source": [
    "test = data['WEC: ava. available P from wind']"
   ]
  },
  {
   "cell_type": "code",
   "execution_count": 22,
   "metadata": {},
   "outputs": [],
   "source": [
    "from sklearn.model_selection import train_test_split"
   ]
  },
  {
   "cell_type": "code",
   "execution_count": 23,
   "metadata": {},
   "outputs": [],
   "source": [
    "x_train,x_test,y_train,y_test = train_test_split(train,test,test_size=0.3,random_state=100)"
   ]
  },
  {
   "cell_type": "code",
   "execution_count": 24,
   "metadata": {},
   "outputs": [],
   "source": [
    "from sklearn.metrics import r2_score\n",
    "from sklearn.ensemble import RandomForestRegressor"
   ]
  },
  {
   "cell_type": "code",
   "execution_count": 25,
   "metadata": {},
   "outputs": [],
   "source": [
    "model2 = RandomForestRegressor()"
   ]
  },
  {
   "cell_type": "code",
   "execution_count": 26,
   "metadata": {},
   "outputs": [
    {
     "data": {
      "text/plain": [
       "RandomForestRegressor(bootstrap=True, criterion='mse', max_depth=None,\n",
       "                      max_features='auto', max_leaf_nodes=None,\n",
       "                      min_impurity_decrease=0.0, min_impurity_split=None,\n",
       "                      min_samples_leaf=1, min_samples_split=2,\n",
       "                      min_weight_fraction_leaf=0.0, n_estimators=10,\n",
       "                      n_jobs=None, oob_score=False, random_state=None,\n",
       "                      verbose=0, warm_start=False)"
      ]
     },
     "execution_count": 26,
     "metadata": {},
     "output_type": "execute_result"
    }
   ],
   "source": [
    "model2.fit(x_train,y_train)"
   ]
  },
  {
   "cell_type": "code",
   "execution_count": 27,
   "metadata": {},
   "outputs": [],
   "source": [
    "pred2 = model2.predict(x_test)"
   ]
  },
  {
   "cell_type": "code",
   "execution_count": 28,
   "metadata": {},
   "outputs": [
    {
     "data": {
      "text/plain": [
       "array([1694.        ,  214.55172108,  356.0307208 , ...,  783.27473726,\n",
       "        434.22080268, 3064.82      ])"
      ]
     },
     "execution_count": 28,
     "metadata": {},
     "output_type": "execute_result"
    }
   ],
   "source": [
    "pred2"
   ]
  },
  {
   "cell_type": "code",
   "execution_count": 29,
   "metadata": {},
   "outputs": [
    {
     "data": {
      "text/plain": [
       "0.4773156498052499"
      ]
     },
     "execution_count": 29,
     "metadata": {},
     "output_type": "execute_result"
    }
   ],
   "source": [
    "r2_score(y_test,pred2)"
   ]
  },
  {
   "cell_type": "code",
   "execution_count": 30,
   "metadata": {},
   "outputs": [],
   "source": [
    "#Saving the Model to Disk\n",
    "pickle.dump(model2,open('wind-power-prediction.pkl','wb'))"
   ]
  },
  {
   "cell_type": "code",
   "execution_count": 31,
   "metadata": {},
   "outputs": [
    {
     "data": {
      "text/plain": [
       "array([3018.2])"
      ]
     },
     "execution_count": 31,
     "metadata": {},
     "output_type": "execute_result"
    }
   ],
   "source": [
    "model2.predict([[25,60]])"
   ]
  },
  {
   "cell_type": "code",
   "execution_count": 34,
   "metadata": {},
   "outputs": [
    {
     "name": "stdout",
     "output_type": "stream",
     "text": [
      "[892.67142857]\n"
     ]
    }
   ],
   "source": [
    "model2 = pickle.load(open('wind-power-prediction.pkl','rb'))\n",
    "print(model2.predict([[6.54, 15.55]]))"
   ]
  },
  {
   "cell_type": "code",
   "execution_count": null,
   "metadata": {},
   "outputs": [],
   "source": []
  }
 ],
 "metadata": {
  "kernelspec": {
   "display_name": "Python 3",
   "language": "python",
   "name": "python3"
  },
  "language_info": {
   "codemirror_mode": {
    "name": "ipython",
    "version": 3
   },
   "file_extension": ".py",
   "mimetype": "text/x-python",
   "name": "python",
   "nbconvert_exporter": "python",
   "pygments_lexer": "ipython3",
   "version": "3.7.4"
  }
 },
 "nbformat": 4,
 "nbformat_minor": 2
}
